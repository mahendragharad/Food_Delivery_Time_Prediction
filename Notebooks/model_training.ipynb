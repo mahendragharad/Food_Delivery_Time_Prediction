{
 "cells": [
  {
   "attachments": {},
   "cell_type": "markdown",
   "metadata": {},
   "source": [
    "#### Steps :\n",
    "##### 1. Divide the datset into  independent and dependent dataset\n",
    "##### 2. Divide the dataset into the train and test dataset\n",
    "##### 3. Feature SCalling --> standardization\n",
    "##### 4. Model Training\n",
    "##### 5. Model Fit\n",
    "##### 6. Coefficient And Intercept\n",
    "##### 7. Prediction\n",
    "##### 8. MSE MAE SMSE"
   ]
  },
  {
   "cell_type": "code",
   "execution_count": null,
   "metadata": {},
   "outputs": [],
   "source": []
  }
 ],
 "metadata": {
  "kernelspec": {
   "display_name": "Python 3",
   "language": "python",
   "name": "python3"
  },
  "language_info": {
   "codemirror_mode": {
    "name": "ipython",
    "version": 3
   },
   "file_extension": ".py",
   "mimetype": "text/x-python",
   "name": "python",
   "nbconvert_exporter": "python",
   "pygments_lexer": "ipython3",
   "version": "3.8.0"
  },
  "orig_nbformat": 4
 },
 "nbformat": 4,
 "nbformat_minor": 2
}
